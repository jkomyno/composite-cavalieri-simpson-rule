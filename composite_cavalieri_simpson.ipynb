{
 "cells": [
  {
   "cell_type": "markdown",
   "metadata": {},
   "source": [
    "# Composite  Cavalieri-Simpson rule\n",
    "\n",
    "The **Composite Cavalieri-Simpson** rule is a numerical analysis method for numerical integration. It's equivalent to using the **Newton-Cotes** formula for a value of $n=2$.\n",
    "The basic idea of every Newton-Cotes derived rule is that the $[a,b]$ interval must be split in multiple subdivisions.\n",
    "The Cavalieri-Simpson rule requires $m$ equally spaced subdivisions, where $m$ is even. The rule can be expressed as the following:\n",
    "\n",
    "$h = \\frac{(b-a)}{m};\\quad$\n",
    "$x_{i} = a + ih, \\quad$ where $i = 0, \\dots, m$.\n",
    "\n",
    "$S = f(a) + 4 \\sum\\limits_{i=1}^{m-1} f(a + ih) + 2 \\sum\\limits_{j=2}^{m-2} f(a + jh) + f(b), \\quad$ where $i$ is odd and $j$ is even\n",
    "\n",
    "$\\int_{a}^{b}f(x)dx \\approx \\frac{h}{3}S$\n"
   ]
  },
  {
   "cell_type": "markdown",
   "metadata": {},
   "source": [
    "## Python implementation\n",
    "\n",
    "The following code has been written in a way that everage `numpy`'s **broadcasting** feature, avoiding explicit iterative cycles. It calculates an approximation of the definite integral $\\int_{0}^{1}x^{\\frac{11}{2}}dx$, with a tolerance of $1e-8$ and $20$ maximum iterations allowed."
   ]
  },
  {
   "cell_type": "code",
   "execution_count": 1,
   "metadata": {},
   "outputs": [],
   "source": [
    "# Import dependencies\n",
    "import numpy as np\n",
    "import matplotlib.pyplot as plt\n",
    "from scipy import integrate\n",
    "\n",
    "# Avoid having to manually call plt.show()\n",
    "%matplotlib inline"
   ]
  },
  {
   "cell_type": "code",
   "execution_count": 2,
   "metadata": {},
   "outputs": [],
   "source": [
    "# Composite Cavalieri-Simpson rule\n",
    "#\n",
    "# I = simpson (f,a,b,m);\n",
    "#\n",
    "# Input params:\n",
    "# f: integrand function\n",
    "# a: left extreme of the intregration interval\n",
    "# b: right extreme of the intregration interval\n",
    "# m: number of subintervals (even!)\n",
    "#\n",
    "# Output:\n",
    "# I: definite integral approximation\n",
    "def simpson(f, a, b, m):\n",
    "    if m % 2 == 1:\n",
    "        raise ValueError('m must be even.')\n",
    "    \n",
    "    h = (b - a) / m # Calculate the step h\n",
    "    \n",
    "    sum_fa_fb = f(a) + f(b) # Sum of the function evaluated in a and b\n",
    "    \n",
    "    # Row vector with m evenly spaced segments calculated over the interval [a, b]\n",
    "    row_space = np.linspace(a, b, num=m+1)\n",
    "    \n",
    "    # Extract the even-indexed values from row_space.\n",
    "    # The first of these values is a, and the last is b. I'll need to exclude them later on.\n",
    "    even_space_with_ab = row_space[0:row_space.size:2]\n",
    "    \n",
    "    # Row vector with the odd-indexed values of row_space, without a or b\n",
    "    odd_space = even_space_with_ab[1:-1]\n",
    "    \n",
    "    # Row vector with the even-indexed values of row_space, without a or b\n",
    "    even_space = row_space[1:row_space.size-1:2]\n",
    "    \n",
    "    # vectorize given function\n",
    "    f_vec = np.vectorize(f, otypes=[float])\n",
    "    \n",
    "    # calculate the sum of the function evaluated in every even_space point\n",
    "    sum_even_space = np.sum(f_vec(even_space))\n",
    "    \n",
    "    # calculate the sum of the function evaluated in every odd_space point\n",
    "    sum_odd_space = np.sum(f_vec(odd_space))\n",
    "    \n",
    "    # calculate the Simpson's S value\n",
    "    S = sum_fa_fb + 4*sum_even_space + 2*sum_odd_space\n",
    "    \n",
    "    # calculate and return the approximated integral\n",
    "    I = h * S / 3\n",
    "    return I\n",
    "    "
   ]
  },
  {
   "cell_type": "code",
   "execution_count": 3,
   "metadata": {},
   "outputs": [],
   "source": [
    "# Adaptive Cavalieri-Simpson\n",
    "#\n",
    "# [int,Q,flag]=simpson_adattativa(f,a,b,m,toll,nmax)\n",
    "#\n",
    "# Input params:\n",
    "# f: integrand function\n",
    "# a: left extreme of the intregration interval\n",
    "# b: right extreme of the intregration interval\n",
    "# m: number of subintervals (even!)\n",
    "#\n",
    "# Output:\n",
    "# int_row: row vector containing the I(n) approximations, for 0 <= n <= nmax\n",
    "# Q: real solution with an absolute error < 1e-8\n",
    "# flag: 0 the process executed correctly, else 1.\n",
    "def adaptive_simpson(f, a, b, m):\n",
    "    n = 0\n",
    "    n_max = 20 # max number of allowed iterations\n",
    "    tol = 1e-8 # absolute error tolerance\n",
    "    err = tol + np.spacing(1) # np.spacing(1) is the equivalent of eps in Matlab\n",
    "    Q, _ = integrate.quad(f, a, b, epsabs=tol) # exact solution with a tolerance of toll\n",
    "    \n",
    "    # preallocate subsequente approximations vector\n",
    "    int_row = np.zeros(n_max + 1)\n",
    "    \n",
    "    # add the first approximation to int_row\n",
    "    int_row[n] = simpson(f, a, b, m)\n",
    "    \n",
    "    while n <= n_max and abs(err) >= tol:\n",
    "        n = n + 1 # update number of iterations\n",
    "        m = 2 * m # update number of parts\n",
    "        int_row[n] = simpson(f, a, b, m)\n",
    "        err = int_row[n] - int_row[n-1] # update error\n",
    "        \n",
    "    if n == n_max:\n",
    "        flag = 1 # too many iterations\n",
    "    else:\n",
    "        flag = 0\n",
    "        int_row = int_row[:n]\n",
    "    \n",
    "    return int_row, Q, flag"
   ]
  },
  {
   "cell_type": "code",
   "execution_count": 4,
   "metadata": {},
   "outputs": [],
   "source": [
    "def plot_error(int_row, Q):\n",
    "    abs_vec = np.vectorize(abs, otypes=[float])\n",
    "    \n",
    "    nx = np.arange(0, int_row.size, step=1)\n",
    "    ey = abs_vec(int_row - Q)\n",
    "    \n",
    "    # plt.grid(True)\n",
    "    # plt.figure(figsize=(20,10))\n",
    "    plt.xlabel(\"n\")\n",
    "    plt.ylabel(\"absolute error\")\n",
    "    plt.yscale(\"log\")\n",
    "    plt.plot(nx, ey, marker=\"o\")\n",
    "    plt.savefig(\"myplot.png\")"
   ]
  },
  {
   "cell_type": "code",
   "execution_count": 5,
   "metadata": {},
   "outputs": [],
   "source": [
    "def example():\n",
    "    # initialize parameters\n",
    "    f = lambda x: x**(11/2)\n",
    "    a = 0\n",
    "    b = 1\n",
    "    m = 2\n",
    "    \n",
    "    int_row, Q, flag = adaptive_simpson(f, a, b, m)\n",
    "    \n",
    "    if flag == 0:\n",
    "        plot_error(int_row, Q)\n",
    "    else:\n",
    "        print(\"No solution within tolerance\")"
   ]
  },
  {
   "cell_type": "code",
   "execution_count": 6,
   "metadata": {},
   "outputs": [
    {
     "data": {
      "image/png": "[encoded data removed]",
      "text/plain": [
       "<Figure size 432x288 with 1 Axes>"
      ]
     },
     "metadata": {
      "needs_background": "light"
     },
     "output_type": "display_data"
    }
   ],
   "source": [
    "example()"
   ]
  },
  {
   "cell_type": "code",
   "execution_count": null,
   "metadata": {},
   "outputs": [],
   "source": []
  }
 ],
 "metadata": {
  "kernelspec": {
   "display_name": "Python 3",
   "language": "python",
   "name": "python3"
  },
  "language_info": {
   "codemirror_mode": {
    "name": "ipython",
    "version": 3
   },
   "file_extension": ".py",
   "mimetype": "text/x-python",
   "name": "python",
   "nbconvert_exporter": "python",
   "pygments_lexer": "ipython3",
   "version": "3.6.2"
  }
 },
 "nbformat": 4,
 "nbformat_minor": 2
}
